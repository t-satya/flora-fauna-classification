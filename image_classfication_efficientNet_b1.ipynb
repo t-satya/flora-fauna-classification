{
 "cells": [
  {
   "cell_type": "code",
   "execution_count": 1,
   "id": "18cb0f2d",
   "metadata": {
    "_cell_guid": "b1076dfc-b9ad-4769-8c92-a6c4dae69d19",
    "_kg_hide-input": true,
    "_kg_hide-output": true,
    "_uuid": "8f2839f25d086af736a60e9eeb907d3b93b6e0e5",
    "execution": {
     "iopub.execute_input": "2025-08-03T06:11:37.168472Z",
     "iopub.status.busy": "2025-08-03T06:11:37.168183Z",
     "iopub.status.idle": "2025-08-03T06:11:37.910715Z",
     "shell.execute_reply": "2025-08-03T06:11:37.910053Z"
    },
    "papermill": {
     "duration": 0.74939,
     "end_time": "2025-08-03T06:11:37.912640",
     "exception": false,
     "start_time": "2025-08-03T06:11:37.163250",
     "status": "completed"
    },
    "tags": []
   },
   "outputs": [],
   "source": [
    "# This Python 3 environment comes with many helpful analytics libraries installed\n",
    "# It is defined by the kaggle/python Docker image: https://github.com/kaggle/docker-python\n",
    "# For example, here's several helpful packages to load\n",
    "\n",
    "import numpy as np # linear algebra\n",
    "import pandas as pd # data processing, CSV file I/O (e.g. pd.read_csv)\n",
    "\n",
    "# Input data files are available in the read-only \"../input/\" directory\n",
    "# For example, running this (by clicking run or pressing Shift+Enter) will list all files under the input directory\n",
    "\n",
    "import os\n",
    "# for dirname, _, filenames in os.walk('/kaggle/input'):\n",
    "#     for filename in filenames:\n",
    "#         print(os.path.join(dirname, filename))\n",
    "\n",
    "# You can write up to 20GB to the current directory (/kaggle/working/) that gets preserved as output when you create a version using \"Save & Run All\" \n",
    "# You can also write temporary files to /kaggle/temp/, but they won't be saved outside of the current session"
   ]
  },
  {
   "cell_type": "markdown",
   "id": "10182b12",
   "metadata": {
    "papermill": {
     "duration": 0.00298,
     "end_time": "2025-08-03T06:11:37.919112",
     "exception": false,
     "start_time": "2025-08-03T06:11:37.916132",
     "status": "completed"
    },
    "tags": []
   },
   "source": [
    "## Library Imports"
   ]
  },
  {
   "cell_type": "code",
   "execution_count": 2,
   "id": "8133a19e",
   "metadata": {
    "execution": {
     "iopub.execute_input": "2025-08-03T06:11:37.926622Z",
     "iopub.status.busy": "2025-08-03T06:11:37.926072Z",
     "iopub.status.idle": "2025-08-03T06:11:44.251678Z",
     "shell.execute_reply": "2025-08-03T06:11:44.250769Z"
    },
    "papermill": {
     "duration": 6.331209,
     "end_time": "2025-08-03T06:11:44.253431",
     "exception": false,
     "start_time": "2025-08-03T06:11:37.922222",
     "status": "completed"
    },
    "tags": []
   },
   "outputs": [
    {
     "data": {
      "text/plain": [
       "<torch._C.Generator at 0x7d1730e5ad70>"
      ]
     },
     "execution_count": 2,
     "metadata": {},
     "output_type": "execute_result"
    }
   ],
   "source": [
    "# Imports necessary for training the model\n",
    "import torch\n",
    "import torch.nn as nn\n",
    "import torch.optim as optim\n",
    "import torchvision\n",
    "import torchvision.datasets as dsets\n",
    "import torchvision.models as models\n",
    "import torchvision.transforms.v2 as transforms\n",
    "import torchvision.utils as utils\n",
    "from torch.utils.data import Dataset, DataLoader, random_split\n",
    "from tqdm import tqdm\n",
    "\n",
    "# Few other important libraries\n",
    "import matplotlib.pyplot as plt\n",
    "import numpy as np\n",
    "import time\n",
    "from sklearn.metrics import f1_score, classification_report, confusion_matrix, ConfusionMatrixDisplay\n",
    "\n",
    "torch.manual_seed(0)"
   ]
  },
  {
   "cell_type": "code",
   "execution_count": 3,
   "id": "515dfbb8",
   "metadata": {
    "execution": {
     "iopub.execute_input": "2025-08-03T06:11:44.263067Z",
     "iopub.status.busy": "2025-08-03T06:11:44.262201Z",
     "iopub.status.idle": "2025-08-03T06:11:44.266209Z",
     "shell.execute_reply": "2025-08-03T06:11:44.265393Z"
    },
    "papermill": {
     "duration": 0.010847,
     "end_time": "2025-08-03T06:11:44.267862",
     "exception": false,
     "start_time": "2025-08-03T06:11:44.257015",
     "status": "completed"
    },
    "tags": []
   },
   "outputs": [],
   "source": [
    "torch.cuda.empty_cache()"
   ]
  },
  {
   "cell_type": "markdown",
   "id": "11506073",
   "metadata": {
    "papermill": {
     "duration": 0.003134,
     "end_time": "2025-08-03T06:11:44.274397",
     "exception": false,
     "start_time": "2025-08-03T06:11:44.271263",
     "status": "completed"
    },
    "tags": []
   },
   "source": [
    "## Data Augmentation"
   ]
  },
  {
   "cell_type": "code",
   "execution_count": 4,
   "id": "b45e4041",
   "metadata": {
    "execution": {
     "iopub.execute_input": "2025-08-03T06:11:44.281907Z",
     "iopub.status.busy": "2025-08-03T06:11:44.281650Z",
     "iopub.status.idle": "2025-08-03T06:11:44.287323Z",
     "shell.execute_reply": "2025-08-03T06:11:44.286706Z"
    },
    "papermill": {
     "duration": 0.011092,
     "end_time": "2025-08-03T06:11:44.288805",
     "exception": false,
     "start_time": "2025-08-03T06:11:44.277713",
     "status": "completed"
    },
    "tags": []
   },
   "outputs": [],
   "source": [
    "\n",
    "transform_train = transforms.Compose([\n",
    "    transforms.ToImage(),\n",
    "    transforms.ToDtype(torch.float32, scale=True),\n",
    "    transforms.Resize(232),\n",
    "    transforms.RandomCrop(224),\n",
    "    transforms.RandomHorizontalFlip(),\n",
    "    transforms.ColorJitter(0.2, 0.2, 0.2, 0.1),\n",
    "    transforms.Normalize(mean=[0.485, 0.456, 0.406], \n",
    "                         std=[0.229, 0.224, 0.225])\n",
    "])\n",
    "\n",
    "transform_test = transforms.Compose([\n",
    "    transforms.ToImage(),  # converts from HWC np to CHW Tensor\n",
    "    transforms.ToDtype(torch.float32, scale=True),  # uint8 [0,255] -> float32 [0.0, 1.0]\n",
    "    transforms.Resize(256),  \n",
    "    transforms.CenterCrop(224),  # No random cropping here\n",
    "    transforms.Normalize(mean=[0.485, 0.456, 0.406], \n",
    "                         std=[0.229, 0.224, 0.225])  # ImageNet stats\n",
    "])\n"
   ]
  },
  {
   "cell_type": "markdown",
   "id": "88a34a16",
   "metadata": {
    "papermill": {
     "duration": 0.003077,
     "end_time": "2025-08-03T06:11:44.294963",
     "exception": false,
     "start_time": "2025-08-03T06:11:44.291886",
     "status": "completed"
    },
    "tags": []
   },
   "source": [
    "## Data Loading"
   ]
  },
  {
   "cell_type": "code",
   "execution_count": 5,
   "id": "9177e3ad",
   "metadata": {
    "execution": {
     "iopub.execute_input": "2025-08-03T06:11:44.302422Z",
     "iopub.status.busy": "2025-08-03T06:11:44.302172Z",
     "iopub.status.idle": "2025-08-03T06:11:44.331683Z",
     "shell.execute_reply": "2025-08-03T06:11:44.331102Z"
    },
    "papermill": {
     "duration": 0.035104,
     "end_time": "2025-08-03T06:11:44.333377",
     "exception": false,
     "start_time": "2025-08-03T06:11:44.298273",
     "status": "completed"
    },
    "tags": []
   },
   "outputs": [],
   "source": [
    "train_path = \"/kaggle/input/deep-learning-practice-image-classification/train\"\n",
    "test_path = \"/kaggle/input/deep-learning-practice-image-classification/test\"\n",
    "\n",
    "\n",
    "from PIL import Image  # Import the Image module from Pillow\n",
    "\n",
    "class CustomTestDataset(Dataset):\n",
    "    def __init__(self, test_dir, transform=None):\n",
    "        self.test_dir = test_dir\n",
    "        self.transform = transform\n",
    "        self.image_paths = [os.path.join(test_dir, fname) for fname in os.listdir(test_dir)]\n",
    "    \n",
    "    def __len__(self):\n",
    "        return len(self.image_paths)\n",
    "    \n",
    "    def __getitem__(self, idx):\n",
    "        img_path = self.image_paths[idx]\n",
    "        image = Image.open(img_path).convert(\"RGB\")  # Open image and convert to RGB\n",
    "        if self.transform:\n",
    "            image = self.transform(image)  # Apply the transform if available\n",
    "        return image, img_path  # Return the image and its path\n",
    "\n",
    "\n",
    "# Create test data\n",
    "test_data = CustomTestDataset(test_dir=test_path, transform=transform_test)\n",
    "\n"
   ]
  },
  {
   "cell_type": "code",
   "execution_count": 6,
   "id": "15a72fa3",
   "metadata": {
    "execution": {
     "iopub.execute_input": "2025-08-03T06:11:44.340463Z",
     "iopub.status.busy": "2025-08-03T06:11:44.340217Z",
     "iopub.status.idle": "2025-08-03T06:11:50.770793Z",
     "shell.execute_reply": "2025-08-03T06:11:50.769791Z"
    },
    "papermill": {
     "duration": 6.43605,
     "end_time": "2025-08-03T06:11:50.772529",
     "exception": false,
     "start_time": "2025-08-03T06:11:44.336479",
     "status": "completed"
    },
    "tags": []
   },
   "outputs": [
    {
     "name": "stdout",
     "output_type": "stream",
     "text": [
      "Train Data Shape:  9999\n",
      "Test Data Shape:  2000\n"
     ]
    }
   ],
   "source": [
    "# Load Training and Test datasets\n",
    "full_train_data = dsets.ImageFolder(root=train_path)\n",
    "\n",
    "# Create a validation set from the training data\n",
    "train_size_fraction = 0.9\n",
    "train_size = int(train_size_fraction*len(full_train_data))  # 90% for training\n",
    "val_size = len(full_train_data) - train_size  # 10% for validation\n",
    "train_dataset, val_dataset = random_split(full_train_data, [train_size, val_size])\n",
    "\n",
    "# Now apply transform_train and transform_test separately\n",
    "train_dataset.dataset.transform = transform_train  # augmentation\n",
    "val_dataset.dataset.transform = transform_test      # no augmentation\n",
    "\n",
    "# Print data details\n",
    "print(\"Train Data Shape: \", len(full_train_data))\n",
    "print(\"Test Data Shape: \", len(test_data))\n"
   ]
  },
  {
   "cell_type": "code",
   "execution_count": 7,
   "id": "05ed6f8a",
   "metadata": {
    "execution": {
     "iopub.execute_input": "2025-08-03T06:11:50.780731Z",
     "iopub.status.busy": "2025-08-03T06:11:50.780070Z",
     "iopub.status.idle": "2025-08-03T06:11:50.784297Z",
     "shell.execute_reply": "2025-08-03T06:11:50.783554Z"
    },
    "papermill": {
     "duration": 0.010103,
     "end_time": "2025-08-03T06:11:50.786005",
     "exception": false,
     "start_time": "2025-08-03T06:11:50.775902",
     "status": "completed"
    },
    "tags": []
   },
   "outputs": [
    {
     "name": "stdout",
     "output_type": "stream",
     "text": [
      "label_mapping {'Amphibia': 0, 'Animalia': 1, 'Arachnida': 2, 'Aves': 3, 'Fungi': 4, 'Insecta': 5, 'Mammalia': 6, 'Mollusca': 7, 'Plantae': 8, 'Reptilia': 9}\n"
     ]
    }
   ],
   "source": [
    "print(\"label_mapping\",full_train_data.class_to_idx)"
   ]
  },
  {
   "cell_type": "code",
   "execution_count": 8,
   "id": "bc9a37a4",
   "metadata": {
    "execution": {
     "iopub.execute_input": "2025-08-03T06:11:50.793813Z",
     "iopub.status.busy": "2025-08-03T06:11:50.793135Z",
     "iopub.status.idle": "2025-08-03T06:11:50.799045Z",
     "shell.execute_reply": "2025-08-03T06:11:50.798342Z"
    },
    "papermill": {
     "duration": 0.011419,
     "end_time": "2025-08-03T06:11:50.800690",
     "exception": false,
     "start_time": "2025-08-03T06:11:50.789271",
     "status": "completed"
    },
    "tags": []
   },
   "outputs": [
    {
     "name": "stdout",
     "output_type": "stream",
     "text": [
      "No. of samples in training dataset: 8999\n",
      "No. of samples in validation dataset: 1000\n",
      "No. of samples in test dataset: 2000\n"
     ]
    }
   ],
   "source": [
    "batch_size = 64 # Batch Size of the images\n",
    "\n",
    "# Creating dataloaders\n",
    "train_loader = DataLoader(dataset = train_dataset, batch_size = batch_size, shuffle = True,num_workers=2)\n",
    "val_loader = DataLoader(dataset = val_dataset, batch_size = batch_size, shuffle = False,num_workers=2)\n",
    "test_loader = DataLoader(dataset = test_data, batch_size = batch_size, shuffle = False,num_workers=2)\n",
    "\n",
    "# Printing the no. of samples in each dataset\n",
    "print(\"No. of samples in training dataset:\", len(train_loader.dataset))\n",
    "print(\"No. of samples in validation dataset:\", len(val_loader.dataset))\n",
    "print(\"No. of samples in test dataset:\", len(test_loader.dataset))"
   ]
  },
  {
   "cell_type": "markdown",
   "id": "0652ea26",
   "metadata": {
    "papermill": {
     "duration": 0.003183,
     "end_time": "2025-08-03T06:11:50.807180",
     "exception": false,
     "start_time": "2025-08-03T06:11:50.803997",
     "status": "completed"
    },
    "tags": []
   },
   "source": [
    "## Training and Validating Model "
   ]
  },
  {
   "cell_type": "code",
   "execution_count": 9,
   "id": "59e12151",
   "metadata": {
    "execution": {
     "iopub.execute_input": "2025-08-03T06:11:50.815018Z",
     "iopub.status.busy": "2025-08-03T06:11:50.814778Z",
     "iopub.status.idle": "2025-08-03T06:11:50.827013Z",
     "shell.execute_reply": "2025-08-03T06:11:50.826310Z"
    },
    "papermill": {
     "duration": 0.018011,
     "end_time": "2025-08-03T06:11:50.828507",
     "exception": false,
     "start_time": "2025-08-03T06:11:50.810496",
     "status": "completed"
    },
    "tags": []
   },
   "outputs": [],
   "source": [
    "\n",
    "# Function to calculate accuracy\n",
    "def calculate_accuracy(preds, labels):\n",
    "    correct = (preds == labels).sum().item()\n",
    "    return correct / len(labels) * 100\n",
    "\n",
    "# Define the training function\n",
    "def train_model(model, train_loader, val_loader, num_epochs=10, learning_rate=0.0001,patience=2):\n",
    "    device = torch.device(\"cuda\" if torch.cuda.is_available() else \"cpu\")\n",
    "    model = model.to(device)\n",
    "\n",
    "    # Loss function\n",
    "    criterion = nn.CrossEntropyLoss()\n",
    "\n",
    "    # Optimizer\n",
    "    optimizer = torch.optim.Adam(filter(lambda p: p.requires_grad, model.parameters()), lr=learning_rate)\n",
    "    scheduler = torch.optim.lr_scheduler.ReduceLROnPlateau(optimizer, mode='min', patience=2)\n",
    "\n",
    "    best_val_f1 = 0.0  # Track the best F1 score\n",
    "    best_model_weights = None  # Store best model weights\n",
    "\n",
    "    for epoch in range(num_epochs):\n",
    "        print(f\"Epoch {epoch + 1}/{num_epochs}\")\n",
    "        print(\"-\" * 20)\n",
    "        \n",
    "        # Training phase\n",
    "        model.train()\n",
    "        running_loss = 0.0\n",
    "        running_corrects = 0\n",
    "        all_train_preds = []\n",
    "        all_train_labels = []\n",
    "\n",
    "        for inputs, labels in tqdm(train_loader):\n",
    "            inputs, labels = inputs.to(device), labels.to(device)\n",
    "\n",
    "            # Forward pass\n",
    "            outputs = model(inputs)\n",
    "            loss = criterion(outputs, labels)\n",
    "\n",
    "            # Get predictions\n",
    "            _, preds = torch.max(outputs, 1)\n",
    "\n",
    "            # Backward pass\n",
    "            optimizer.zero_grad()\n",
    "            loss.backward()\n",
    "            optimizer.step()\n",
    "\n",
    "            running_loss += loss.item()\n",
    "            running_corrects += (preds == labels).sum().item()\n",
    "\n",
    "            all_train_preds.extend(preds.cpu().numpy())\n",
    "            all_train_labels.extend(labels.cpu().numpy())\n",
    "\n",
    "        # Calculate training accuracy and F1 score\n",
    "        train_accuracy = calculate_accuracy(torch.tensor(all_train_preds), torch.tensor(all_train_labels))\n",
    "        train_f1 = f1_score(all_train_labels, all_train_preds, average='weighted')\n",
    "\n",
    "        avg_train_loss = running_loss / len(train_loader)\n",
    "        print(f\"Train Loss: {avg_train_loss:.4f}, Train Accuracy: {train_accuracy:.2f}%, Train F1: {train_f1:.4f}\")\n",
    "\n",
    "        # Validation phase\n",
    "        model.eval()\n",
    "        val_preds = []\n",
    "        val_labels = []\n",
    "        running_val_loss = 0.0\n",
    "        running_val_corrects = 0\n",
    "\n",
    "        with torch.no_grad():\n",
    "            for inputs, labels in val_loader:\n",
    "                inputs, labels = inputs.to(device), labels.to(device)\n",
    "                outputs = model(inputs)\n",
    "                loss = criterion(outputs, labels)\n",
    "\n",
    "                _, preds = torch.max(outputs, 1)\n",
    "\n",
    "                running_val_loss += loss.item()\n",
    "                running_val_corrects += (preds == labels).sum().item()\n",
    "\n",
    "                val_preds.extend(preds.cpu().numpy())\n",
    "                val_labels.extend(labels.cpu().numpy())\n",
    "\n",
    "        # Calculate validation accuracy and F1 score\n",
    "        val_accuracy = calculate_accuracy(torch.tensor(val_preds), torch.tensor(val_labels))\n",
    "        val_f1 = f1_score(val_labels, val_preds, average='weighted')\n",
    "\n",
    "        avg_val_loss = running_val_loss / len(val_loader)\n",
    "        print(f\"Val Loss: {avg_val_loss:.4f}, Val Accuracy: {val_accuracy:.2f}%, Val F1: {val_f1:.4f}\")\n",
    "        \n",
    "        # Step the learning rate scheduler\n",
    "        scheduler.step(avg_val_loss)\n",
    "        \n",
    "        # Save the best model based on validation F1 score\n",
    "        if val_f1 > best_val_f1:\n",
    "            best_val_f1 = val_f1\n",
    "            best_model_weights = model.state_dict()\n",
    "            epochs_since_improvement = 0  # Reset patience counter\n",
    "            print(f\"Saved best model with validation F1: {val_f1:.4f}\")\n",
    "        else:\n",
    "            epochs_since_improvement += 1\n",
    "            \n",
    "        # Early stopping check\n",
    "        if epochs_since_improvement >= patience:\n",
    "            print(f\"Stopping training early at epoch {epoch+1} due to no improvement in validation F1.\")\n",
    "            break\n",
    "\n",
    "    # Load best model weights\n",
    "    if best_model_weights:\n",
    "        model.load_state_dict(best_model_weights)\n",
    "\n",
    "    print(f\"Training Complete. Best Validation F1 Score: {best_val_f1:.4f}\")\n",
    "    return model, best_val_f1\n",
    "\n"
   ]
  },
  {
   "cell_type": "markdown",
   "id": "4ddd5bff",
   "metadata": {
    "papermill": {
     "duration": 0.003157,
     "end_time": "2025-08-03T06:11:50.834945",
     "exception": false,
     "start_time": "2025-08-03T06:11:50.831788",
     "status": "completed"
    },
    "tags": []
   },
   "source": [
    "## Evaluating Test and Saving Predictions to CSV"
   ]
  },
  {
   "cell_type": "code",
   "execution_count": 10,
   "id": "ff5f658e",
   "metadata": {
    "execution": {
     "iopub.execute_input": "2025-08-03T06:11:50.842484Z",
     "iopub.status.busy": "2025-08-03T06:11:50.842239Z",
     "iopub.status.idle": "2025-08-03T06:11:50.847969Z",
     "shell.execute_reply": "2025-08-03T06:11:50.847345Z"
    },
    "papermill": {
     "duration": 0.011007,
     "end_time": "2025-08-03T06:11:50.849399",
     "exception": false,
     "start_time": "2025-08-03T06:11:50.838392",
     "status": "completed"
    },
    "tags": []
   },
   "outputs": [],
   "source": [
    "\n",
    "def evaluate_and_save_predictions(model, test_loader, output_csv='21F1000641.csv'):\n",
    "    device = torch.device(\"cuda\" if torch.cuda.is_available() else \"cpu\")\n",
    "    model.to(device)  # Ensure model is on the correct device\n",
    "    model.eval()  # Set model to evaluation mode\n",
    "    predictions = []\n",
    "    image_ids = []\n",
    "    \n",
    "    # Disable gradient computation for inference\n",
    "    with torch.no_grad():\n",
    "        for inputs, paths in tqdm(test_loader):  # Assuming test_loader provides file paths\n",
    "            inputs = inputs.to(device)\n",
    "            \n",
    "            # Forward pass\n",
    "            outputs = model(inputs)\n",
    "            _, preds = torch.max(outputs, 1)\n",
    "            \n",
    "            # Extract Image_IDs (file names without extension)\n",
    "            for path, pred in zip(paths, preds):\n",
    "                image_id = os.path.splitext(os.path.basename(path))[0]  # Remove extension from the filename\n",
    "                predictions.append(pred.item())  # Add the predicted label\n",
    "                image_ids.append(image_id)  # Add the image ID\n",
    "\n",
    "    # Create a DataFrame with Image_ID and predicted labels\n",
    "    submission_df = pd.DataFrame({\n",
    "        'Image_ID': image_ids,\n",
    "        'Label': predictions\n",
    "    })\n",
    "    \n",
    "    # Save the DataFrame to a CSV file\n",
    "    output_csv_path = f\"/kaggle/working/{output_csv}\"\n",
    "    submission_df.to_csv(output_csv_path, index=False)\n",
    "    print(f\"Predictions saved to {output_csv_path}\")\n"
   ]
  },
  {
   "cell_type": "code",
   "execution_count": 11,
   "id": "f8aa77c4",
   "metadata": {
    "execution": {
     "iopub.execute_input": "2025-08-03T06:11:50.856852Z",
     "iopub.status.busy": "2025-08-03T06:11:50.856614Z",
     "iopub.status.idle": "2025-08-03T06:19:37.423949Z",
     "shell.execute_reply": "2025-08-03T06:19:37.422665Z"
    },
    "papermill": {
     "duration": 466.604736,
     "end_time": "2025-08-03T06:19:37.457412",
     "exception": false,
     "start_time": "2025-08-03T06:11:50.852676",
     "status": "completed"
    },
    "tags": []
   },
   "outputs": [
    {
     "name": "stderr",
     "output_type": "stream",
     "text": [
      "/opt/conda/lib/python3.10/site-packages/torchvision/models/_utils.py:208: UserWarning: The parameter 'pretrained' is deprecated since 0.13 and may be removed in the future, please use 'weights' instead.\n",
      "  warnings.warn(\n",
      "/opt/conda/lib/python3.10/site-packages/torchvision/models/_utils.py:223: UserWarning: Arguments other than a weight enum or `None` for 'weights' are deprecated since 0.13 and may be removed in the future. The current behavior is equivalent to passing `weights=EfficientNet_V2_S_Weights.IMAGENET1K_V1`. You can also use `weights=EfficientNet_V2_S_Weights.DEFAULT` to get the most up-to-date weights.\n",
      "  warnings.warn(msg)\n",
      "Downloading: \"https://download.pytorch.org/models/efficientnet_v2_s-dd5fe13b.pth\" to /root/.cache/torch/hub/checkpoints/efficientnet_v2_s-dd5fe13b.pth\n",
      "100%|██████████| 82.7M/82.7M [00:00<00:00, 175MB/s]\n"
     ]
    },
    {
     "name": "stdout",
     "output_type": "stream",
     "text": [
      "Training EfficientNet-V2:\n",
      "Epoch 1/30\n",
      "--------------------\n"
     ]
    },
    {
     "name": "stderr",
     "output_type": "stream",
     "text": [
      "100%|██████████| 141/141 [01:55<00:00,  1.23it/s]"
     ]
    },
    {
     "name": "stdout",
     "output_type": "stream",
     "text": [
      "Train Loss: 0.9203, Train Accuracy: 74.62%, Train F1: 0.7460\n"
     ]
    },
    {
     "name": "stderr",
     "output_type": "stream",
     "text": [
      "\n"
     ]
    },
    {
     "name": "stdout",
     "output_type": "stream",
     "text": [
      "Val Loss: 0.3761, Val Accuracy: 88.80%, Val F1: 0.8883\n",
      "Saved best model with validation F1: 0.8883\n",
      "Epoch 2/30\n",
      "--------------------\n"
     ]
    },
    {
     "name": "stderr",
     "output_type": "stream",
     "text": [
      "100%|██████████| 141/141 [01:40<00:00,  1.40it/s]"
     ]
    },
    {
     "name": "stdout",
     "output_type": "stream",
     "text": [
      "Train Loss: 0.2738, Train Accuracy: 91.89%, Train F1: 0.9190\n"
     ]
    },
    {
     "name": "stderr",
     "output_type": "stream",
     "text": [
      "\n"
     ]
    },
    {
     "name": "stdout",
     "output_type": "stream",
     "text": [
      "Val Loss: 0.3177, Val Accuracy: 90.70%, Val F1: 0.9069\n",
      "Saved best model with validation F1: 0.9069\n",
      "Epoch 3/30\n",
      "--------------------\n"
     ]
    },
    {
     "name": "stderr",
     "output_type": "stream",
     "text": [
      "100%|██████████| 141/141 [01:43<00:00,  1.36it/s]"
     ]
    },
    {
     "name": "stdout",
     "output_type": "stream",
     "text": [
      "Train Loss: 0.1342, Train Accuracy: 96.08%, Train F1: 0.9608\n"
     ]
    },
    {
     "name": "stderr",
     "output_type": "stream",
     "text": [
      "\n"
     ]
    },
    {
     "name": "stdout",
     "output_type": "stream",
     "text": [
      "Val Loss: 0.3670, Val Accuracy: 89.50%, Val F1: 0.8949\n",
      "Epoch 4/30\n",
      "--------------------\n"
     ]
    },
    {
     "name": "stderr",
     "output_type": "stream",
     "text": [
      "100%|██████████| 141/141 [01:45<00:00,  1.34it/s]"
     ]
    },
    {
     "name": "stdout",
     "output_type": "stream",
     "text": [
      "Train Loss: 0.0846, Train Accuracy: 97.67%, Train F1: 0.9767\n"
     ]
    },
    {
     "name": "stderr",
     "output_type": "stream",
     "text": [
      "\n"
     ]
    },
    {
     "name": "stdout",
     "output_type": "stream",
     "text": [
      "Val Loss: 0.4006, Val Accuracy: 89.60%, Val F1: 0.8958\n",
      "Stopping training early at epoch 4 due to no improvement in validation F1.\n",
      "Training Complete. Best Validation F1 Score: 0.9069\n"
     ]
    }
   ],
   "source": [
    "# Load EfficientNet-V2 pretrained model\n",
    "model = models.efficientnet_v2_s(pretrained=True)\n",
    "\n",
    "# Modify the final fully connected layer for custom number of output classes\n",
    "model.classifier[1] = nn.Linear(model.classifier[1].in_features, 10)  # 10 classes\n",
    "\n",
    "# Training the model\n",
    "print(\"Training EfficientNet-V2:\")\n",
    "trained_model, best_f1 = train_model(model, train_loader, val_loader, num_epochs=30, learning_rate=0.0001)"
   ]
  },
  {
   "cell_type": "code",
   "execution_count": 12,
   "id": "7e577581",
   "metadata": {
    "execution": {
     "iopub.execute_input": "2025-08-03T06:19:37.515410Z",
     "iopub.status.busy": "2025-08-03T06:19:37.515041Z",
     "iopub.status.idle": "2025-08-03T06:20:02.810655Z",
     "shell.execute_reply": "2025-08-03T06:20:02.809557Z"
    },
    "papermill": {
     "duration": 25.325967,
     "end_time": "2025-08-03T06:20:02.812301",
     "exception": false,
     "start_time": "2025-08-03T06:19:37.486334",
     "status": "completed"
    },
    "tags": []
   },
   "outputs": [
    {
     "name": "stderr",
     "output_type": "stream",
     "text": [
      "100%|██████████| 32/32 [00:25<00:00,  1.27it/s]"
     ]
    },
    {
     "name": "stdout",
     "output_type": "stream",
     "text": [
      "Predictions saved to /kaggle/working/21F1000641.csv\n"
     ]
    },
    {
     "name": "stderr",
     "output_type": "stream",
     "text": [
      "\n"
     ]
    }
   ],
   "source": [
    "evaluate_and_save_predictions(trained_model, test_loader, output_csv='21F1000641.csv')"
   ]
  },
  {
   "cell_type": "code",
   "execution_count": 13,
   "id": "33e970ab",
   "metadata": {
    "execution": {
     "iopub.execute_input": "2025-08-03T06:20:02.874832Z",
     "iopub.status.busy": "2025-08-03T06:20:02.874480Z",
     "iopub.status.idle": "2025-08-03T06:20:02.886370Z",
     "shell.execute_reply": "2025-08-03T06:20:02.885661Z"
    },
    "papermill": {
     "duration": 0.044068,
     "end_time": "2025-08-03T06:20:02.888005",
     "exception": false,
     "start_time": "2025-08-03T06:20:02.843937",
     "status": "completed"
    },
    "tags": []
   },
   "outputs": [
    {
     "name": "stdout",
     "output_type": "stream",
     "text": [
      "2000\n"
     ]
    }
   ],
   "source": [
    "import pandas as pd\n",
    "output_df = pd.read_csv(\"/kaggle/working/21F1000641.csv\")\n",
    "print(len(output_df))"
   ]
  }
 ],
 "metadata": {
  "kaggle": {
   "accelerator": "nvidiaTeslaT4",
   "dataSources": [
    {
     "databundleVersionId": 9549185,
     "sourceId": 84763,
     "sourceType": "competition"
    }
   ],
   "dockerImageVersionId": 30786,
   "isGpuEnabled": true,
   "isInternetEnabled": true,
   "language": "python",
   "sourceType": "notebook"
  },
  "kernelspec": {
   "display_name": "Python 3",
   "language": "python",
   "name": "python3"
  },
  "language_info": {
   "codemirror_mode": {
    "name": "ipython",
    "version": 3
   },
   "file_extension": ".py",
   "mimetype": "text/x-python",
   "name": "python",
   "nbconvert_exporter": "python",
   "pygments_lexer": "ipython3",
   "version": "3.10.14"
  },
  "papermill": {
   "default_parameters": {},
   "duration": 510.988766,
   "end_time": "2025-08-03T06:20:05.580881",
   "environment_variables": {},
   "exception": null,
   "input_path": "__notebook__.ipynb",
   "output_path": "__notebook__.ipynb",
   "parameters": {},
   "start_time": "2025-08-03T06:11:34.592115",
   "version": "2.6.0"
  }
 },
 "nbformat": 4,
 "nbformat_minor": 5
}
