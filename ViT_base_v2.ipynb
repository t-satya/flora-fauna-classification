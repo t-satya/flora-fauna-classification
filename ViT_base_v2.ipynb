{
 "cells": [
  {
   "cell_type": "code",
   "execution_count": 1,
   "id": "e95ff61c",
   "metadata": {
    "_cell_guid": "b1076dfc-b9ad-4769-8c92-a6c4dae69d19",
    "_kg_hide-input": true,
    "_kg_hide-output": true,
    "_uuid": "8f2839f25d086af736a60e9eeb907d3b93b6e0e5",
    "execution": {
     "iopub.execute_input": "2025-08-03T10:44:09.892292Z",
     "iopub.status.busy": "2025-08-03T10:44:09.891929Z",
     "iopub.status.idle": "2025-08-03T10:44:11.194420Z",
     "shell.execute_reply": "2025-08-03T10:44:11.193720Z"
    },
    "papermill": {
     "duration": 1.309789,
     "end_time": "2025-08-03T10:44:11.196362",
     "exception": false,
     "start_time": "2025-08-03T10:44:09.886573",
     "status": "completed"
    },
    "tags": []
   },
   "outputs": [],
   "source": [
    "# This Python 3 environment comes with many helpful analytics libraries installed\n",
    "# It is defined by the kaggle/python Docker image: https://github.com/kaggle/docker-python\n",
    "# For example, here's several helpful packages to load\n",
    "\n",
    "import numpy as np # linear algebra\n",
    "import pandas as pd # data processing, CSV file I/O (e.g. pd.read_csv)\n",
    "\n",
    "# Input data files are available in the read-only \"../input/\" directory\n",
    "# For example, running this (by clicking run or pressing Shift+Enter) will list all files under the input directory\n",
    "\n",
    "import os\n",
    "# for dirname, _, filenames in os.walk('/kaggle/input'):\n",
    "#     for filename in filenames:\n",
    "#         print(os.path.join(dirname, filename))\n",
    "\n",
    "# You can write up to 20GB to the current directory (/kaggle/working/) that gets preserved as output when you create a version using \"Save & Run All\" \n",
    "# You can also write temporary files to /kaggle/temp/, but they won't be saved outside of the current session"
   ]
  },
  {
   "cell_type": "markdown",
   "id": "d87f7dfc",
   "metadata": {
    "papermill": {
     "duration": 0.003249,
     "end_time": "2025-08-03T10:44:11.203304",
     "exception": false,
     "start_time": "2025-08-03T10:44:11.200055",
     "status": "completed"
    },
    "tags": []
   },
   "source": [
    "## Library Imports"
   ]
  },
  {
   "cell_type": "code",
   "execution_count": 2,
   "id": "aaaf5e15",
   "metadata": {
    "execution": {
     "iopub.execute_input": "2025-08-03T10:44:11.210837Z",
     "iopub.status.busy": "2025-08-03T10:44:11.210436Z",
     "iopub.status.idle": "2025-08-03T10:44:24.336473Z",
     "shell.execute_reply": "2025-08-03T10:44:24.335673Z"
    },
    "papermill": {
     "duration": 13.132156,
     "end_time": "2025-08-03T10:44:24.338573",
     "exception": false,
     "start_time": "2025-08-03T10:44:11.206417",
     "status": "completed"
    },
    "tags": []
   },
   "outputs": [
    {
     "data": {
      "text/plain": [
       "<torch._C.Generator at 0x7fa3eb8eed70>"
      ]
     },
     "execution_count": 2,
     "metadata": {},
     "output_type": "execute_result"
    }
   ],
   "source": [
    "# Imports necessary for training the model\n",
    "import torch\n",
    "import torch.nn as nn\n",
    "import torch.optim as optim\n",
    "import torchvision\n",
    "import torchvision.datasets as dsets\n",
    "import torchvision.models as models\n",
    "import torchvision.transforms.v2 as transforms\n",
    "import torchvision.utils as utils\n",
    "from torch.utils.data import Dataset, DataLoader, random_split\n",
    "from tqdm import tqdm\n",
    "\n",
    "# Few other important libraries\n",
    "import matplotlib.pyplot as plt\n",
    "import numpy as np\n",
    "import time\n",
    "from sklearn.metrics import f1_score, classification_report, confusion_matrix, ConfusionMatrixDisplay\n",
    "\n",
    "import timm\n",
    "\n",
    "torch.manual_seed(0)"
   ]
  },
  {
   "cell_type": "code",
   "execution_count": 3,
   "id": "68c7d013",
   "metadata": {
    "execution": {
     "iopub.execute_input": "2025-08-03T10:44:24.348497Z",
     "iopub.status.busy": "2025-08-03T10:44:24.347672Z",
     "iopub.status.idle": "2025-08-03T10:44:24.351497Z",
     "shell.execute_reply": "2025-08-03T10:44:24.350746Z"
    },
    "papermill": {
     "duration": 0.011208,
     "end_time": "2025-08-03T10:44:24.353328",
     "exception": false,
     "start_time": "2025-08-03T10:44:24.342120",
     "status": "completed"
    },
    "tags": []
   },
   "outputs": [],
   "source": [
    "torch.cuda.empty_cache()"
   ]
  },
  {
   "cell_type": "markdown",
   "id": "4827d0f5",
   "metadata": {
    "papermill": {
     "duration": 0.003015,
     "end_time": "2025-08-03T10:44:24.359565",
     "exception": false,
     "start_time": "2025-08-03T10:44:24.356550",
     "status": "completed"
    },
    "tags": []
   },
   "source": [
    "## Data Augmentation"
   ]
  },
  {
   "cell_type": "code",
   "execution_count": 4,
   "id": "5cd98c92",
   "metadata": {
    "execution": {
     "iopub.execute_input": "2025-08-03T10:44:24.367270Z",
     "iopub.status.busy": "2025-08-03T10:44:24.367009Z",
     "iopub.status.idle": "2025-08-03T10:44:24.417129Z",
     "shell.execute_reply": "2025-08-03T10:44:24.416435Z"
    },
    "papermill": {
     "duration": 0.056035,
     "end_time": "2025-08-03T10:44:24.418953",
     "exception": false,
     "start_time": "2025-08-03T10:44:24.362918",
     "status": "completed"
    },
    "tags": []
   },
   "outputs": [],
   "source": [
    "\n",
    "from timm.data import create_transform\n",
    "\n",
    "transform_train = create_transform(\n",
    "    input_size=(3, 224, 224),\n",
    "    is_training=True,\n",
    "    auto_augment='rand-m9-mstd0.5-inc1',  # optional but strong\n",
    "    interpolation='bicubic',\n",
    "    re_prob=0.25\n",
    ")\n",
    "\n",
    "transform_test = create_transform(\n",
    "    input_size=(3, 224, 224),\n",
    "    is_training=False\n",
    ")\n"
   ]
  },
  {
   "cell_type": "markdown",
   "id": "da985d64",
   "metadata": {
    "papermill": {
     "duration": 0.003081,
     "end_time": "2025-08-03T10:44:24.425609",
     "exception": false,
     "start_time": "2025-08-03T10:44:24.422528",
     "status": "completed"
    },
    "tags": []
   },
   "source": [
    "## Data Loading"
   ]
  },
  {
   "cell_type": "code",
   "execution_count": 5,
   "id": "57860946",
   "metadata": {
    "execution": {
     "iopub.execute_input": "2025-08-03T10:44:24.433577Z",
     "iopub.status.busy": "2025-08-03T10:44:24.433303Z",
     "iopub.status.idle": "2025-08-03T10:44:24.471377Z",
     "shell.execute_reply": "2025-08-03T10:44:24.470573Z"
    },
    "papermill": {
     "duration": 0.044141,
     "end_time": "2025-08-03T10:44:24.473280",
     "exception": false,
     "start_time": "2025-08-03T10:44:24.429139",
     "status": "completed"
    },
    "tags": []
   },
   "outputs": [],
   "source": [
    "train_path = \"/kaggle/input/deep-learning-practice-image-classification/train\"\n",
    "test_path = \"/kaggle/input/deep-learning-practice-image-classification/test\"\n",
    "\n",
    "\n",
    "from PIL import Image  # Import the Image module from Pillow\n",
    "\n",
    "class CustomTestDataset(Dataset):\n",
    "    def __init__(self, test_dir, transform=None):\n",
    "        self.test_dir = test_dir\n",
    "        self.transform = transform\n",
    "        self.image_paths = [os.path.join(test_dir, fname) for fname in os.listdir(test_dir)]\n",
    "    \n",
    "    def __len__(self):\n",
    "        return len(self.image_paths)\n",
    "    \n",
    "    def __getitem__(self, idx):\n",
    "        img_path = self.image_paths[idx]\n",
    "        image = Image.open(img_path).convert(\"RGB\")  # Open image and convert to RGB\n",
    "        if self.transform:\n",
    "            image = self.transform(image)  # Apply the transform if available\n",
    "        return image, img_path  # Return the image and its path\n",
    "\n",
    "\n",
    "# Create test data\n",
    "test_data = CustomTestDataset(test_dir=test_path, transform=transform_test)\n",
    "\n"
   ]
  },
  {
   "cell_type": "code",
   "execution_count": 6,
   "id": "814da982",
   "metadata": {
    "execution": {
     "iopub.execute_input": "2025-08-03T10:44:24.480607Z",
     "iopub.status.busy": "2025-08-03T10:44:24.480355Z",
     "iopub.status.idle": "2025-08-03T10:44:41.549984Z",
     "shell.execute_reply": "2025-08-03T10:44:41.549175Z"
    },
    "papermill": {
     "duration": 17.075432,
     "end_time": "2025-08-03T10:44:41.551917",
     "exception": false,
     "start_time": "2025-08-03T10:44:24.476485",
     "status": "completed"
    },
    "tags": []
   },
   "outputs": [
    {
     "name": "stdout",
     "output_type": "stream",
     "text": [
      "Train Data Shape:  9999\n",
      "Test Data Shape:  2000\n"
     ]
    }
   ],
   "source": [
    "# Load Training and Test datasets\n",
    "full_train_data = dsets.ImageFolder(root=train_path)\n",
    "\n",
    "# Create a validation set from the training data\n",
    "train_size_fraction = 0.9\n",
    "train_size = int(train_size_fraction*len(full_train_data))  # 90% for training\n",
    "val_size = len(full_train_data) - train_size  # 10% for validation\n",
    "train_dataset, val_dataset = random_split(full_train_data, [train_size, val_size])\n",
    "\n",
    "# Now apply transform_train and transform_test separately\n",
    "train_dataset.dataset.transform = transform_train  # augmentation\n",
    "val_dataset.dataset.transform = transform_test      # no augmentation\n",
    "\n",
    "# Print data details\n",
    "print(\"Train Data Shape: \", len(full_train_data))\n",
    "print(\"Test Data Shape: \", len(test_data))\n"
   ]
  },
  {
   "cell_type": "code",
   "execution_count": 7,
   "id": "f41fac7e",
   "metadata": {
    "execution": {
     "iopub.execute_input": "2025-08-03T10:44:41.560078Z",
     "iopub.status.busy": "2025-08-03T10:44:41.559776Z",
     "iopub.status.idle": "2025-08-03T10:44:41.564025Z",
     "shell.execute_reply": "2025-08-03T10:44:41.563159Z"
    },
    "papermill": {
     "duration": 0.010235,
     "end_time": "2025-08-03T10:44:41.565824",
     "exception": false,
     "start_time": "2025-08-03T10:44:41.555589",
     "status": "completed"
    },
    "tags": []
   },
   "outputs": [
    {
     "name": "stdout",
     "output_type": "stream",
     "text": [
      "label_mapping {'Amphibia': 0, 'Animalia': 1, 'Arachnida': 2, 'Aves': 3, 'Fungi': 4, 'Insecta': 5, 'Mammalia': 6, 'Mollusca': 7, 'Plantae': 8, 'Reptilia': 9}\n"
     ]
    }
   ],
   "source": [
    "print(\"label_mapping\",full_train_data.class_to_idx)"
   ]
  },
  {
   "cell_type": "code",
   "execution_count": 8,
   "id": "1d6ea3ee",
   "metadata": {
    "execution": {
     "iopub.execute_input": "2025-08-03T10:44:41.573839Z",
     "iopub.status.busy": "2025-08-03T10:44:41.573534Z",
     "iopub.status.idle": "2025-08-03T10:44:41.579300Z",
     "shell.execute_reply": "2025-08-03T10:44:41.578545Z"
    },
    "papermill": {
     "duration": 0.011908,
     "end_time": "2025-08-03T10:44:41.581123",
     "exception": false,
     "start_time": "2025-08-03T10:44:41.569215",
     "status": "completed"
    },
    "tags": []
   },
   "outputs": [
    {
     "name": "stdout",
     "output_type": "stream",
     "text": [
      "No. of samples in training dataset: 8999\n",
      "No. of samples in validation dataset: 1000\n",
      "No. of samples in test dataset: 2000\n"
     ]
    }
   ],
   "source": [
    "batch_size = 64 # Batch Size of the images\n",
    "\n",
    "# Creating dataloaders\n",
    "train_loader = DataLoader(dataset = train_dataset, batch_size = batch_size, shuffle = True,num_workers=2)\n",
    "val_loader = DataLoader(dataset = val_dataset, batch_size = batch_size, shuffle = False,num_workers=2)\n",
    "test_loader = DataLoader(dataset = test_data, batch_size = batch_size, shuffle = False,num_workers=2)\n",
    "\n",
    "# Printing the no. of samples in each dataset\n",
    "print(\"No. of samples in training dataset:\", len(train_loader.dataset))\n",
    "print(\"No. of samples in validation dataset:\", len(val_loader.dataset))\n",
    "print(\"No. of samples in test dataset:\", len(test_loader.dataset))"
   ]
  },
  {
   "cell_type": "markdown",
   "id": "bc2bce45",
   "metadata": {
    "papermill": {
     "duration": 0.003273,
     "end_time": "2025-08-03T10:44:41.587876",
     "exception": false,
     "start_time": "2025-08-03T10:44:41.584603",
     "status": "completed"
    },
    "tags": []
   },
   "source": [
    "## Training and Validating Model "
   ]
  },
  {
   "cell_type": "code",
   "execution_count": 9,
   "id": "d1d12f2e",
   "metadata": {
    "execution": {
     "iopub.execute_input": "2025-08-03T10:44:41.595929Z",
     "iopub.status.busy": "2025-08-03T10:44:41.595641Z",
     "iopub.status.idle": "2025-08-03T10:44:41.608754Z",
     "shell.execute_reply": "2025-08-03T10:44:41.608044Z"
    },
    "papermill": {
     "duration": 0.019293,
     "end_time": "2025-08-03T10:44:41.610400",
     "exception": false,
     "start_time": "2025-08-03T10:44:41.591107",
     "status": "completed"
    },
    "tags": []
   },
   "outputs": [],
   "source": [
    "from torch.optim import AdamW\n",
    "from torch.optim.lr_scheduler import CosineAnnealingLR\n",
    "from torch.cuda.amp import autocast, GradScaler\n",
    "\n",
    "# Function to calculate accuracy\n",
    "def calculate_accuracy(preds, labels):\n",
    "    correct = (preds == labels).sum().item()\n",
    "    return correct / len(labels) * 100\n",
    "\n",
    "# Define the training function\n",
    "def train_model(model, train_loader, val_loader, num_epochs=10, learning_rate=0.0001,patience=2):\n",
    "    device = torch.device(\"cuda\" if torch.cuda.is_available() else \"cpu\")\n",
    "    model = model.to(device)\n",
    "\n",
    "    # Loss function\n",
    "    criterion = nn.CrossEntropyLoss()\n",
    "    \n",
    "    optimizer = AdamW(filter(lambda p: p.requires_grad, model.parameters()), lr=learning_rate, weight_decay=1e-4)\n",
    "    scheduler = CosineAnnealingLR(optimizer, T_max=num_epochs)\n",
    "\n",
    "    best_val_f1 = 0.0  # Track the best F1 score\n",
    "    best_model_weights = None  # Store best model weights\n",
    "    \n",
    "    scaler = GradScaler()\n",
    "    \n",
    "    for epoch in range(num_epochs):\n",
    "        print(f\"Epoch {epoch + 1}/{num_epochs}\")\n",
    "        print(\"-\" * 20)\n",
    "        \n",
    "        # Training phase\n",
    "        model.train()\n",
    "        running_loss = 0.0\n",
    "        running_corrects = 0\n",
    "        all_train_preds = []\n",
    "        all_train_labels = []\n",
    "\n",
    "        for inputs, labels in tqdm(train_loader):\n",
    "            inputs, labels = inputs.to(device), labels.to(device)\n",
    "\n",
    "            optimizer.zero_grad()\n",
    "\n",
    "            with autocast():\n",
    "                outputs = model(inputs)\n",
    "                loss = criterion(outputs, labels)\n",
    "            \n",
    "            scaler.scale(loss).backward()\n",
    "            scaler.step(optimizer)\n",
    "            scaler.update()\n",
    "\n",
    "            # Get predictions\n",
    "            _, preds = torch.max(outputs, 1)\n",
    "\n",
    "            running_loss += loss.item()\n",
    "            running_corrects += (preds == labels).sum().item()\n",
    "\n",
    "            all_train_preds.extend(preds.cpu().numpy())\n",
    "            all_train_labels.extend(labels.cpu().numpy())\n",
    "\n",
    "        # Calculate training accuracy and F1 score\n",
    "        train_accuracy = calculate_accuracy(torch.tensor(all_train_preds), torch.tensor(all_train_labels))\n",
    "        train_f1 = f1_score(all_train_labels, all_train_preds, average='weighted')\n",
    "\n",
    "        avg_train_loss = running_loss / len(train_loader)\n",
    "        print(f\"Train Loss: {avg_train_loss:.4f}, Train Accuracy: {train_accuracy:.2f}%, Train F1: {train_f1:.4f}\")\n",
    "\n",
    "        # Validation phase\n",
    "        model.eval()\n",
    "        val_preds = []\n",
    "        val_labels = []\n",
    "        running_val_loss = 0.0\n",
    "        running_val_corrects = 0\n",
    "\n",
    "        with torch.no_grad():\n",
    "            for inputs, labels in val_loader:\n",
    "                inputs, labels = inputs.to(device), labels.to(device)\n",
    "                outputs = model(inputs)\n",
    "                loss = criterion(outputs, labels)\n",
    "\n",
    "                _, preds = torch.max(outputs, 1)\n",
    "\n",
    "                running_val_loss += loss.item()\n",
    "                running_val_corrects += (preds == labels).sum().item()\n",
    "\n",
    "                val_preds.extend(preds.cpu().numpy())\n",
    "                val_labels.extend(labels.cpu().numpy())\n",
    "\n",
    "        # Calculate validation accuracy and F1 score\n",
    "        val_accuracy = calculate_accuracy(torch.tensor(val_preds), torch.tensor(val_labels))\n",
    "        val_f1 = f1_score(val_labels, val_preds, average='weighted')\n",
    "\n",
    "        avg_val_loss = running_val_loss / len(val_loader)\n",
    "        print(f\"Val Loss: {avg_val_loss:.4f}, Val Accuracy: {val_accuracy:.2f}%, Val F1: {val_f1:.4f}\")\n",
    "        \n",
    "        # Step the learning rate scheduler\n",
    "        scheduler.step()\n",
    "        \n",
    "        # Save the best model based on validation F1 score\n",
    "        if val_f1 > best_val_f1:\n",
    "            best_val_f1 = val_f1\n",
    "            best_model_weights = model.state_dict()\n",
    "            epochs_since_improvement = 0  # Reset patience counter\n",
    "            print(f\"Saved best model with validation F1: {val_f1:.4f}\")\n",
    "        else:\n",
    "            epochs_since_improvement += 1\n",
    "            \n",
    "        # Early stopping check\n",
    "        if epochs_since_improvement >= patience:\n",
    "            print(f\"Stopping training early at epoch {epoch+1} due to no improvement in validation F1.\")\n",
    "            break\n",
    "\n",
    "    # Load best model weights\n",
    "    if best_model_weights:\n",
    "        model.load_state_dict(best_model_weights)\n",
    "\n",
    "    print(f\"Training Complete. Best Validation F1 Score: {best_val_f1:.4f}\")\n",
    "    return model, best_val_f1\n",
    "\n"
   ]
  },
  {
   "cell_type": "markdown",
   "id": "4e4c55fb",
   "metadata": {
    "papermill": {
     "duration": 0.00315,
     "end_time": "2025-08-03T10:44:41.617035",
     "exception": false,
     "start_time": "2025-08-03T10:44:41.613885",
     "status": "completed"
    },
    "tags": []
   },
   "source": [
    "## Evaluating Test and Saving Predictions to CSV"
   ]
  },
  {
   "cell_type": "code",
   "execution_count": 10,
   "id": "a0a9fadd",
   "metadata": {
    "execution": {
     "iopub.execute_input": "2025-08-03T10:44:41.624956Z",
     "iopub.status.busy": "2025-08-03T10:44:41.624668Z",
     "iopub.status.idle": "2025-08-03T10:44:41.630899Z",
     "shell.execute_reply": "2025-08-03T10:44:41.630194Z"
    },
    "papermill": {
     "duration": 0.01211,
     "end_time": "2025-08-03T10:44:41.632543",
     "exception": false,
     "start_time": "2025-08-03T10:44:41.620433",
     "status": "completed"
    },
    "tags": []
   },
   "outputs": [],
   "source": [
    "\n",
    "def evaluate_and_save_predictions(model, test_loader, output_csv='21F1000641.csv'):\n",
    "    device = torch.device(\"cuda\" if torch.cuda.is_available() else \"cpu\")\n",
    "    model.to(device)  # Ensure model is on the correct device\n",
    "    model.eval()  # Set model to evaluation mode\n",
    "    predictions = []\n",
    "    image_ids = []\n",
    "    \n",
    "    # Disable gradient computation for inference\n",
    "    with torch.no_grad():\n",
    "        for inputs, paths in tqdm(test_loader):  # Assuming test_loader provides file paths\n",
    "            inputs = inputs.to(device)\n",
    "            \n",
    "            # Forward pass\n",
    "            outputs = model(inputs)\n",
    "            _, preds = torch.max(outputs, 1)\n",
    "            \n",
    "            # Extract Image_IDs (file names without extension)\n",
    "            for path, pred in zip(paths, preds):\n",
    "                image_id = os.path.splitext(os.path.basename(path))[0]  # Remove extension from the filename\n",
    "                predictions.append(pred.item())  # Add the predicted label\n",
    "                image_ids.append(image_id)  # Add the image ID\n",
    "\n",
    "    # Create a DataFrame with Image_ID and predicted labels\n",
    "    submission_df = pd.DataFrame({\n",
    "        'Image_ID': image_ids,\n",
    "        'Label': predictions\n",
    "    })\n",
    "    \n",
    "    # Save the DataFrame to a CSV file\n",
    "    output_csv_path = f\"/kaggle/working/{output_csv}\"\n",
    "    submission_df.to_csv(output_csv_path, index=False)\n",
    "    print(f\"Predictions saved to {output_csv_path}\")\n"
   ]
  },
  {
   "cell_type": "code",
   "execution_count": 11,
   "id": "62a3f87b",
   "metadata": {
    "execution": {
     "iopub.execute_input": "2025-08-03T10:44:41.640325Z",
     "iopub.status.busy": "2025-08-03T10:44:41.640079Z",
     "iopub.status.idle": "2025-08-03T10:49:47.702909Z",
     "shell.execute_reply": "2025-08-03T10:49:47.701536Z"
    },
    "papermill": {
     "duration": 306.068829,
     "end_time": "2025-08-03T10:49:47.704942",
     "exception": false,
     "start_time": "2025-08-03T10:44:41.636113",
     "status": "completed"
    },
    "tags": []
   },
   "outputs": [
    {
     "data": {
      "application/vnd.jupyter.widget-view+json": {
       "model_id": "caa16edc8e6f4687a32a2ab61ab139d4",
       "version_major": 2,
       "version_minor": 0
      },
      "text/plain": [
       "model.safetensors:   0%|          | 0.00/346M [00:00<?, ?B/s]"
      ]
     },
     "metadata": {},
     "output_type": "display_data"
    },
    {
     "name": "stdout",
     "output_type": "stream",
     "text": [
      "Training ViT_Base_Model :\n"
     ]
    },
    {
     "name": "stderr",
     "output_type": "stream",
     "text": [
      "/tmp/ipykernel_23/3625680109.py:24: FutureWarning: `torch.cuda.amp.GradScaler(args...)` is deprecated. Please use `torch.amp.GradScaler('cuda', args...)` instead.\n",
      "  scaler = GradScaler()\n"
     ]
    },
    {
     "name": "stdout",
     "output_type": "stream",
     "text": [
      "Epoch 1/30\n",
      "--------------------\n"
     ]
    },
    {
     "name": "stderr",
     "output_type": "stream",
     "text": [
      "  0%|          | 0/141 [00:00<?, ?it/s]/tmp/ipykernel_23/3625680109.py:42: FutureWarning: `torch.cuda.amp.autocast(args...)` is deprecated. Please use `torch.amp.autocast('cuda', args...)` instead.\n",
      "  with autocast():\n",
      "100%|██████████| 141/141 [01:47<00:00,  1.31it/s]"
     ]
    },
    {
     "name": "stdout",
     "output_type": "stream",
     "text": [
      "Train Loss: 0.4555, Train Accuracy: 86.40%, Train F1: 0.8639\n"
     ]
    },
    {
     "name": "stderr",
     "output_type": "stream",
     "text": [
      "\n"
     ]
    },
    {
     "name": "stdout",
     "output_type": "stream",
     "text": [
      "Val Loss: 0.2601, Val Accuracy: 91.90%, Val F1: 0.9191\n",
      "Saved best model with validation F1: 0.9191\n",
      "Epoch 2/30\n",
      "--------------------\n"
     ]
    },
    {
     "name": "stderr",
     "output_type": "stream",
     "text": [
      "  0%|          | 0/141 [00:00<?, ?it/s]/tmp/ipykernel_23/3625680109.py:42: FutureWarning: `torch.cuda.amp.autocast(args...)` is deprecated. Please use `torch.amp.autocast('cuda', args...)` instead.\n",
      "  with autocast():\n",
      "100%|██████████| 141/141 [01:12<00:00,  1.93it/s]"
     ]
    },
    {
     "name": "stdout",
     "output_type": "stream",
     "text": [
      "Train Loss: 0.0982, Train Accuracy: 97.16%, Train F1: 0.9715\n"
     ]
    },
    {
     "name": "stderr",
     "output_type": "stream",
     "text": [
      "\n"
     ]
    },
    {
     "name": "stdout",
     "output_type": "stream",
     "text": [
      "Val Loss: 0.3096, Val Accuracy: 91.80%, Val F1: 0.9185\n",
      "Epoch 3/30\n",
      "--------------------\n"
     ]
    },
    {
     "name": "stderr",
     "output_type": "stream",
     "text": [
      "  0%|          | 0/141 [00:00<?, ?it/s]/tmp/ipykernel_23/3625680109.py:42: FutureWarning: `torch.cuda.amp.autocast(args...)` is deprecated. Please use `torch.amp.autocast('cuda', args...)` instead.\n",
      "  with autocast():\n",
      "100%|██████████| 141/141 [01:22<00:00,  1.72it/s]"
     ]
    },
    {
     "name": "stdout",
     "output_type": "stream",
     "text": [
      "Train Loss: 0.0195, Train Accuracy: 99.41%, Train F1: 0.9941\n"
     ]
    },
    {
     "name": "stderr",
     "output_type": "stream",
     "text": [
      "\n"
     ]
    },
    {
     "name": "stdout",
     "output_type": "stream",
     "text": [
      "Val Loss: 0.3608, Val Accuracy: 91.40%, Val F1: 0.9139\n",
      "Stopping training early at epoch 3 due to no improvement in validation F1.\n",
      "Training Complete. Best Validation F1 Score: 0.9191\n"
     ]
    }
   ],
   "source": [
    "\n",
    "model = timm.create_model('vit_base_patch16_224', pretrained=True, num_classes=10)\n",
    "\n",
    "# Freeze all parameters first\n",
    "for param in model.parameters():\n",
    "    param.requires_grad = False\n",
    "\n",
    "# Unfreeze the last few transformer blocks\n",
    "for name, param in model.named_parameters():\n",
    "    if 'blocks.10' in name or 'blocks.11' in name or 'norm' in name or 'head' in name:\n",
    "        param.requires_grad = True\n",
    "        \n",
    "# Training the model\n",
    "print(\"Training ViT_Base_Model :\")\n",
    "trained_model, best_f1 = train_model(model, train_loader, val_loader, num_epochs=30, learning_rate=0.0001)"
   ]
  },
  {
   "cell_type": "code",
   "execution_count": 12,
   "id": "4b38d94b",
   "metadata": {
    "execution": {
     "iopub.execute_input": "2025-08-03T10:49:47.752594Z",
     "iopub.status.busy": "2025-08-03T10:49:47.752262Z",
     "iopub.status.idle": "2025-08-03T10:50:15.781862Z",
     "shell.execute_reply": "2025-08-03T10:50:15.780757Z"
    },
    "papermill": {
     "duration": 28.055302,
     "end_time": "2025-08-03T10:50:15.783914",
     "exception": false,
     "start_time": "2025-08-03T10:49:47.728612",
     "status": "completed"
    },
    "tags": []
   },
   "outputs": [
    {
     "name": "stderr",
     "output_type": "stream",
     "text": [
      "100%|██████████| 32/32 [00:27<00:00,  1.14it/s]"
     ]
    },
    {
     "name": "stdout",
     "output_type": "stream",
     "text": [
      "Predictions saved to /kaggle/working/21F1000641.csv\n"
     ]
    },
    {
     "name": "stderr",
     "output_type": "stream",
     "text": [
      "\n"
     ]
    }
   ],
   "source": [
    "evaluate_and_save_predictions(trained_model, test_loader, output_csv='21F1000641.csv')"
   ]
  },
  {
   "cell_type": "code",
   "execution_count": 13,
   "id": "939e59fc",
   "metadata": {
    "execution": {
     "iopub.execute_input": "2025-08-03T10:50:15.834373Z",
     "iopub.status.busy": "2025-08-03T10:50:15.833468Z",
     "iopub.status.idle": "2025-08-03T10:50:15.849562Z",
     "shell.execute_reply": "2025-08-03T10:50:15.848800Z"
    },
    "papermill": {
     "duration": 0.042433,
     "end_time": "2025-08-03T10:50:15.851107",
     "exception": false,
     "start_time": "2025-08-03T10:50:15.808674",
     "status": "completed"
    },
    "tags": []
   },
   "outputs": [
    {
     "name": "stdout",
     "output_type": "stream",
     "text": [
      "2000\n"
     ]
    }
   ],
   "source": [
    "import pandas as pd\n",
    "output_df = pd.read_csv(\"/kaggle/working/21F1000641.csv\")\n",
    "print(len(output_df))"
   ]
  }
 ],
 "metadata": {
  "kaggle": {
   "accelerator": "nvidiaTeslaT4",
   "dataSources": [
    {
     "databundleVersionId": 9549185,
     "sourceId": 84763,
     "sourceType": "competition"
    }
   ],
   "dockerImageVersionId": 30786,
   "isGpuEnabled": true,
   "isInternetEnabled": true,
   "language": "python",
   "sourceType": "notebook"
  },
  "kernelspec": {
   "display_name": "Python 3",
   "language": "python",
   "name": "python3"
  },
  "language_info": {
   "codemirror_mode": {
    "name": "ipython",
    "version": 3
   },
   "file_extension": ".py",
   "mimetype": "text/x-python",
   "name": "python",
   "nbconvert_exporter": "python",
   "pygments_lexer": "ipython3",
   "version": "3.10.14"
  },
  "papermill": {
   "default_parameters": {},
   "duration": 373.326304,
   "end_time": "2025-08-03T10:50:19.574820",
   "environment_variables": {},
   "exception": null,
   "input_path": "__notebook__.ipynb",
   "output_path": "__notebook__.ipynb",
   "parameters": {},
   "start_time": "2025-08-03T10:44:06.248516",
   "version": "2.6.0"
  },
  "widgets": {
   "application/vnd.jupyter.widget-state+json": {
    "state": {
     "093fedc5aa38409db6ba7457a33792fa": {
      "model_module": "@jupyter-widgets/controls",
      "model_module_version": "1.5.0",
      "model_name": "ProgressStyleModel",
      "state": {
       "_model_module": "@jupyter-widgets/controls",
       "_model_module_version": "1.5.0",
       "_model_name": "ProgressStyleModel",
       "_view_count": null,
       "_view_module": "@jupyter-widgets/base",
       "_view_module_version": "1.2.0",
       "_view_name": "StyleView",
       "bar_color": null,
       "description_width": ""
      }
     },
     "0ad70195d4b44d33b4fe4d97ce04b790": {
      "model_module": "@jupyter-widgets/controls",
      "model_module_version": "1.5.0",
      "model_name": "HTMLModel",
      "state": {
       "_dom_classes": [],
       "_model_module": "@jupyter-widgets/controls",
       "_model_module_version": "1.5.0",
       "_model_name": "HTMLModel",
       "_view_count": null,
       "_view_module": "@jupyter-widgets/controls",
       "_view_module_version": "1.5.0",
       "_view_name": "HTMLView",
       "description": "",
       "description_tooltip": null,
       "layout": "IPY_MODEL_19cd7b97a98c4c54ae025c0f9dcefad0",
       "placeholder": "​",
       "style": "IPY_MODEL_8b364f493076480cbc192845d235fbe6",
       "value": "model.safetensors: 100%"
      }
     },
     "19cd7b97a98c4c54ae025c0f9dcefad0": {
      "model_module": "@jupyter-widgets/base",
      "model_module_version": "1.2.0",
      "model_name": "LayoutModel",
      "state": {
       "_model_module": "@jupyter-widgets/base",
       "_model_module_version": "1.2.0",
       "_model_name": "LayoutModel",
       "_view_count": null,
       "_view_module": "@jupyter-widgets/base",
       "_view_module_version": "1.2.0",
       "_view_name": "LayoutView",
       "align_content": null,
       "align_items": null,
       "align_self": null,
       "border": null,
       "bottom": null,
       "display": null,
       "flex": null,
       "flex_flow": null,
       "grid_area": null,
       "grid_auto_columns": null,
       "grid_auto_flow": null,
       "grid_auto_rows": null,
       "grid_column": null,
       "grid_gap": null,
       "grid_row": null,
       "grid_template_areas": null,
       "grid_template_columns": null,
       "grid_template_rows": null,
       "height": null,
       "justify_content": null,
       "justify_items": null,
       "left": null,
       "margin": null,
       "max_height": null,
       "max_width": null,
       "min_height": null,
       "min_width": null,
       "object_fit": null,
       "object_position": null,
       "order": null,
       "overflow": null,
       "overflow_x": null,
       "overflow_y": null,
       "padding": null,
       "right": null,
       "top": null,
       "visibility": null,
       "width": null
      }
     },
     "852d81e721d340d590f81fc6af39694e": {
      "model_module": "@jupyter-widgets/controls",
      "model_module_version": "1.5.0",
      "model_name": "FloatProgressModel",
      "state": {
       "_dom_classes": [],
       "_model_module": "@jupyter-widgets/controls",
       "_model_module_version": "1.5.0",
       "_model_name": "FloatProgressModel",
       "_view_count": null,
       "_view_module": "@jupyter-widgets/controls",
       "_view_module_version": "1.5.0",
       "_view_name": "ProgressView",
       "bar_style": "success",
       "description": "",
       "description_tooltip": null,
       "layout": "IPY_MODEL_ce0acb11e5af44f38160dbaf56e67d47",
       "max": 346284714.0,
       "min": 0.0,
       "orientation": "horizontal",
       "style": "IPY_MODEL_093fedc5aa38409db6ba7457a33792fa",
       "value": 346284714.0
      }
     },
     "8b364f493076480cbc192845d235fbe6": {
      "model_module": "@jupyter-widgets/controls",
      "model_module_version": "1.5.0",
      "model_name": "DescriptionStyleModel",
      "state": {
       "_model_module": "@jupyter-widgets/controls",
       "_model_module_version": "1.5.0",
       "_model_name": "DescriptionStyleModel",
       "_view_count": null,
       "_view_module": "@jupyter-widgets/base",
       "_view_module_version": "1.2.0",
       "_view_name": "StyleView",
       "description_width": ""
      }
     },
     "8bb3905e30294d84823b86ba7763c1a0": {
      "model_module": "@jupyter-widgets/controls",
      "model_module_version": "1.5.0",
      "model_name": "DescriptionStyleModel",
      "state": {
       "_model_module": "@jupyter-widgets/controls",
       "_model_module_version": "1.5.0",
       "_model_name": "DescriptionStyleModel",
       "_view_count": null,
       "_view_module": "@jupyter-widgets/base",
       "_view_module_version": "1.2.0",
       "_view_name": "StyleView",
       "description_width": ""
      }
     },
     "935b6923c3b24d339534898e42af90f9": {
      "model_module": "@jupyter-widgets/base",
      "model_module_version": "1.2.0",
      "model_name": "LayoutModel",
      "state": {
       "_model_module": "@jupyter-widgets/base",
       "_model_module_version": "1.2.0",
       "_model_name": "LayoutModel",
       "_view_count": null,
       "_view_module": "@jupyter-widgets/base",
       "_view_module_version": "1.2.0",
       "_view_name": "LayoutView",
       "align_content": null,
       "align_items": null,
       "align_self": null,
       "border": null,
       "bottom": null,
       "display": null,
       "flex": null,
       "flex_flow": null,
       "grid_area": null,
       "grid_auto_columns": null,
       "grid_auto_flow": null,
       "grid_auto_rows": null,
       "grid_column": null,
       "grid_gap": null,
       "grid_row": null,
       "grid_template_areas": null,
       "grid_template_columns": null,
       "grid_template_rows": null,
       "height": null,
       "justify_content": null,
       "justify_items": null,
       "left": null,
       "margin": null,
       "max_height": null,
       "max_width": null,
       "min_height": null,
       "min_width": null,
       "object_fit": null,
       "object_position": null,
       "order": null,
       "overflow": null,
       "overflow_x": null,
       "overflow_y": null,
       "padding": null,
       "right": null,
       "top": null,
       "visibility": null,
       "width": null
      }
     },
     "b998624c36314b9c822f56890d399b5f": {
      "model_module": "@jupyter-widgets/controls",
      "model_module_version": "1.5.0",
      "model_name": "HTMLModel",
      "state": {
       "_dom_classes": [],
       "_model_module": "@jupyter-widgets/controls",
       "_model_module_version": "1.5.0",
       "_model_name": "HTMLModel",
       "_view_count": null,
       "_view_module": "@jupyter-widgets/controls",
       "_view_module_version": "1.5.0",
       "_view_name": "HTMLView",
       "description": "",
       "description_tooltip": null,
       "layout": "IPY_MODEL_935b6923c3b24d339534898e42af90f9",
       "placeholder": "​",
       "style": "IPY_MODEL_8bb3905e30294d84823b86ba7763c1a0",
       "value": " 346M/346M [00:01&lt;00:00, 262MB/s]"
      }
     },
     "caa16edc8e6f4687a32a2ab61ab139d4": {
      "model_module": "@jupyter-widgets/controls",
      "model_module_version": "1.5.0",
      "model_name": "HBoxModel",
      "state": {
       "_dom_classes": [],
       "_model_module": "@jupyter-widgets/controls",
       "_model_module_version": "1.5.0",
       "_model_name": "HBoxModel",
       "_view_count": null,
       "_view_module": "@jupyter-widgets/controls",
       "_view_module_version": "1.5.0",
       "_view_name": "HBoxView",
       "box_style": "",
       "children": [
        "IPY_MODEL_0ad70195d4b44d33b4fe4d97ce04b790",
        "IPY_MODEL_852d81e721d340d590f81fc6af39694e",
        "IPY_MODEL_b998624c36314b9c822f56890d399b5f"
       ],
       "layout": "IPY_MODEL_e35518132f18450ebd0b116a86e6ce0c"
      }
     },
     "ce0acb11e5af44f38160dbaf56e67d47": {
      "model_module": "@jupyter-widgets/base",
      "model_module_version": "1.2.0",
      "model_name": "LayoutModel",
      "state": {
       "_model_module": "@jupyter-widgets/base",
       "_model_module_version": "1.2.0",
       "_model_name": "LayoutModel",
       "_view_count": null,
       "_view_module": "@jupyter-widgets/base",
       "_view_module_version": "1.2.0",
       "_view_name": "LayoutView",
       "align_content": null,
       "align_items": null,
       "align_self": null,
       "border": null,
       "bottom": null,
       "display": null,
       "flex": null,
       "flex_flow": null,
       "grid_area": null,
       "grid_auto_columns": null,
       "grid_auto_flow": null,
       "grid_auto_rows": null,
       "grid_column": null,
       "grid_gap": null,
       "grid_row": null,
       "grid_template_areas": null,
       "grid_template_columns": null,
       "grid_template_rows": null,
       "height": null,
       "justify_content": null,
       "justify_items": null,
       "left": null,
       "margin": null,
       "max_height": null,
       "max_width": null,
       "min_height": null,
       "min_width": null,
       "object_fit": null,
       "object_position": null,
       "order": null,
       "overflow": null,
       "overflow_x": null,
       "overflow_y": null,
       "padding": null,
       "right": null,
       "top": null,
       "visibility": null,
       "width": null
      }
     },
     "e35518132f18450ebd0b116a86e6ce0c": {
      "model_module": "@jupyter-widgets/base",
      "model_module_version": "1.2.0",
      "model_name": "LayoutModel",
      "state": {
       "_model_module": "@jupyter-widgets/base",
       "_model_module_version": "1.2.0",
       "_model_name": "LayoutModel",
       "_view_count": null,
       "_view_module": "@jupyter-widgets/base",
       "_view_module_version": "1.2.0",
       "_view_name": "LayoutView",
       "align_content": null,
       "align_items": null,
       "align_self": null,
       "border": null,
       "bottom": null,
       "display": null,
       "flex": null,
       "flex_flow": null,
       "grid_area": null,
       "grid_auto_columns": null,
       "grid_auto_flow": null,
       "grid_auto_rows": null,
       "grid_column": null,
       "grid_gap": null,
       "grid_row": null,
       "grid_template_areas": null,
       "grid_template_columns": null,
       "grid_template_rows": null,
       "height": null,
       "justify_content": null,
       "justify_items": null,
       "left": null,
       "margin": null,
       "max_height": null,
       "max_width": null,
       "min_height": null,
       "min_width": null,
       "object_fit": null,
       "object_position": null,
       "order": null,
       "overflow": null,
       "overflow_x": null,
       "overflow_y": null,
       "padding": null,
       "right": null,
       "top": null,
       "visibility": null,
       "width": null
      }
     }
    },
    "version_major": 2,
    "version_minor": 0
   }
  }
 },
 "nbformat": 4,
 "nbformat_minor": 5
}
